{
 "cells": [
  {
   "cell_type": "code",
   "execution_count": null,
   "id": "287c4f32",
   "metadata": {},
   "outputs": [],
   "source": [
    "import matplotlib\n",
    "matplotlib.use('TkAgg')\n",
    "\n",
    "import numpy as np\n",
    "import networkx as nx\n",
    "import matplotlib.pyplot as plt"
   ]
  },
  {
   "cell_type": "code",
   "execution_count": 20,
   "id": "1f280863",
   "metadata": {},
   "outputs": [],
   "source": [
    "# 地图尺寸和障碍物定义\n",
    "map_size = (40, 40)\n",
    "grid = np.zeros(map_size)\n",
    "obstacles = [(2, 2), (2, 3), (3, 2), (3, 3), (6, 6), (6, 7), (7, 6), (7, 7)]\n",
    "#obstacles = [(0, 0), (0, 1), (1, 0), (1, 1)]"
   ]
  },
  {
   "cell_type": "code",
   "execution_count": 21,
   "id": "acc847d1",
   "metadata": {},
   "outputs": [],
   "source": [
    "triangles = [\n",
    "    [(5, 5), (5, 7), (7, 6)], [(10, 10), (10, 12), (12, 11)], [(15, 15), (15, 17), (17, 16)],\n",
    "    [(20, 20), (20, 22), (22, 21)], [(25, 25), (25, 27), (27, 26)], [(30, 30), (30, 32), (32, 31)],\n",
    "    [(35, 35), (35, 37), (37, 36)]\n",
    "]"
   ]
  },
  {
   "cell_type": "code",
   "execution_count": 22,
   "id": "2d2a96c8",
   "metadata": {},
   "outputs": [],
   "source": [
    "for triangle in triangles:\n",
    "    for point in triangle:\n",
    "        obstacles.append(point)\n",
    "\n",
    "\n",
    "for obs in obstacles:\n",
    "    if 0 <= obs[0] < map_size[0] and 0 <= obs[1] < map_size[1]:\n",
    "        grid[obs] = 1  # 1代表障碍"
   ]
  },
  {
   "cell_type": "code",
   "execution_count": 23,
   "id": "e4be26d1",
   "metadata": {},
   "outputs": [],
   "source": [
    "# 每个单元的大小\n",
    "cell_size = 2\n",
    "n_cells_x = map_size[0] // cell_size\n",
    "n_cells_y = map_size[1] // cell_size"
   ]
  },
  {
   "cell_type": "code",
   "execution_count": 24,
   "id": "1757953e",
   "metadata": {},
   "outputs": [],
   "source": [
    "# 创建一个格网表示地图的单元\n",
    "cells = np.zeros((n_cells_x, n_cells_y))\n",
    "for x in range(n_cells_x):\n",
    "    for y in range(n_cells_y):\n",
    "        sub_grid = grid[x*cell_size:(x+1)*cell_size, y*cell_size:(y+1)*cell_size]\n",
    "        if np.any(sub_grid == 1):\n",
    "            cells[x, y] = 1"
   ]
  },
  {
   "cell_type": "code",
   "execution_count": 25,
   "id": "6904bbba",
   "metadata": {},
   "outputs": [],
   "source": [
    "# 预设起点和终点，确保它们不在边界上\n",
    "start_point = (3, 2)\n",
    "end_point = (10,15)"
   ]
  },
  {
   "cell_type": "code",
   "execution_count": 26,
   "id": "11e7f81c",
   "metadata": {},
   "outputs": [],
   "source": [
    "# 创建图表示分解后的单元\n",
    "G = nx.grid_graph(dim=[n_cells_x, n_cells_y])\n",
    "for x in range(n_cells_x):\n",
    "    for y in range(n_cells_y):\n",
    "        if cells[x, y] == 1:\n",
    "            G.remove_node((x, y))"
   ]
  },
  {
   "cell_type": "code",
   "execution_count": null,
   "id": "c2aa2b70",
   "metadata": {},
   "outputs": [],
   "source": [
    "# 使用 A* 算法找到最短路径\n",
    "if nx.has_path(G, start_point, end_point):\n",
    "    path = nx.astar_path(G, start_point, end_point)\n",
    "    fig, ax = plt.subplots()\n",
    "    ax.imshow(cells.T, cmap='Greys', origin='lower', extent=[0, n_cells_x, 0, n_cells_y])\n",
    "    x_coords, y_coords = zip(*path)\n",
    "    ax.plot(x_coords, y_coords, 'o-', color='powderblue')\n",
    "    plt.show(block=True)  # 确保窗口保持开启\n",
    "    input(\"Press Enter to close...\")\n",
    "else:\n",
    "    print(\"No path found between the start and end points.\")"
   ]
  },
  {
   "cell_type": "code",
   "execution_count": null,
   "id": "79908552",
   "metadata": {},
   "outputs": [],
   "source": []
  }
 ],
 "metadata": {
  "kernelspec": {
   "display_name": "Python 3 (ipykernel)",
   "language": "python",
   "name": "python3"
  },
  "language_info": {
   "codemirror_mode": {
    "name": "ipython",
    "version": 3
   },
   "file_extension": ".py",
   "mimetype": "text/x-python",
   "name": "python",
   "nbconvert_exporter": "python",
   "pygments_lexer": "ipython3",
   "version": "3.9.13"
  }
 },
 "nbformat": 4,
 "nbformat_minor": 5
}
